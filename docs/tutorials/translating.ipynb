{
 "cells": [
  {
   "cell_type": "code",
   "execution_count": 1,
   "metadata": {
    "nbsphinx": "hidden"
   },
   "outputs": [],
   "source": [
    "import inspect\n",
    "from pygments import highlight\n",
    "from pygments.lexers import get_lexer_by_name\n",
    "from pygments.formatters import Terminal256Formatter\n",
    "\n",
    "def show_code(obj):\n",
    "    code = inspect.getsource(obj)\n",
    "    lexer = get_lexer_by_name(\"python\", stripall=True)\n",
    "    formatter = Terminal256Formatter(linenos=True, cssclass=\"source\")\n",
    "    result = highlight(code, lexer, formatter)\n",
    "    print(result)    "
   ]
  },
  {
   "cell_type": "markdown",
   "metadata": {},
   "source": [
    "# Translating\n",
    "\n",
    "<div class=\"alert alert-info\">\n",
    "Before starting, it's important to look at the [translator API](../api/translator.rst#module-yangify.translator) and [ConfigTree](../api/translator.rst#yangify.translator.config_tree.ConfigTree). It may look like a lot and some parts may not make sense at this point but it will help understanding the tutorial.\n",
    "</div>\n",
    "\n",
    "We are going to see how to translate configuration by example. To do that we are going to use a modified/simplified version of the ``openconfig-interfaces`` and ``openconfig-vlan`` models. Note they have been slightly modified for simplicity and brevity.\n",
    "\n",
    "Let's start by looking at the ASCII tree representation of the model:\n",
    "\n",
    "```\n",
    "+--rw openconfig-interfaces:interfaces\n",
    "|  +--rw interface* [name]\n",
    "|     +--rw config\n",
    "|     |  +--rw description? <string>\n",
    "|     |  +--rw enabled? <boolean>\n",
    "|     |  +--rw loopback-mode? <boolean>\n",
    "|     |  +--rw mtu? <uint16>\n",
    "|     |  +--rw name? <string>\n",
    "|     |  +--rw type <identityref>\n",
    "|     +--rw name <leafref>\n",
    "|     +--rw subinterfaces\n",
    "|        +--rw subinterface* [index]\n",
    "|           +--rw config\n",
    "|           |  +--rw description? <string>\n",
    "|           |  +--rw enabled? <boolean>\n",
    "|           |  +--rw index? <uint32>\n",
    "|           +--rw index <leafref>\n",
    "+--rw openconfig-vlan:vlans\n",
    "   +--rw vlan* [vlan-id]\n",
    "      +--rw config\n",
    "      |  +--rw name? <string>\n",
    "      |  +--rw status? <enumeration>\n",
    "      |  +--rw vlan-id? <vlan-id(uint16)>\n",
    "      +--rw vlan-id <leafref>\n",
    "```\n",
    "\n",
    "To write a translator you are going to need to write a class following the rules below:\n",
    "\n",
    "1. A grouping (either a list or a container) is represented by a class that inherits from ``yangify.translator.Translator``.\n",
    "2. Classes that implement a part of the tree are nested in the parent object and are named as the grouping it implements.\n",
    "3. Each class may have a nested class named ``Yangify`` that inherits from ``yangify.translator.TranslatorData``. This class may implement code to help with the processing. See the API documentation for details.\n",
    "4. Finally, leaves are processed by a function named ``{ leaf_name }`` and will have to to modify the ``self.yy.result`` or ``self.yy.root_result`` accordingly.\n",
    "\n",
    "Translator code is going to look very similar to parser code, so refer to the parsing tutorial for details about it."
   ]
  },
  {
   "cell_type": "markdown",
   "metadata": {},
   "source": [
    "## The `openconfig-interfaces` translator\n",
    "\n",
    "To explain how this works we are going to write a translator that will turn a JSON blob following the openconfig models and translate it into IOS configuration. Let's look at the object first:"
   ]
  },
  {
   "cell_type": "code",
   "execution_count": 2,
   "metadata": {},
   "outputs": [
    {
     "name": "stdout",
     "output_type": "stream",
     "text": [
      "{\r\n",
      "  \"openconfig-interfaces:interfaces\": {\r\n",
      "    \"interface\": [\r\n",
      "      {\r\n",
      "        \"name\": \"FastEthernet1\",\r\n",
      "        \"config\": {\r\n",
      "          \"name\": \"FastEthernet1\",\r\n",
      "          \"type\": \"iana-if-type:ethernetCsmacd\",\r\n",
      "          \"description\": \"This is Fa1\",\r\n",
      "          \"enabled\": false\r\n",
      "        },\r\n",
      "        \"subinterfaces\": {\r\n",
      "          \"subinterface\": [\r\n",
      "            {\r\n",
      "              \"index\": 1,\r\n",
      "              \"config\": {\r\n",
      "                \"index\": 1,\r\n",
      "                \"description\": \"This is Fa1.1\"\r\n",
      "              }\r\n",
      "            },\r\n",
      "            {\r\n",
      "              \"index\": 2,\r\n",
      "              \"config\": {\r\n",
      "                \"index\": 2,\r\n",
      "                \"description\": \"This is Fa1.2\"\r\n",
      "              }\r\n",
      "            }\r\n",
      "          ]\r\n",
      "        }\r\n",
      "      },\r\n",
      "      {\r\n",
      "        \"name\": \"FastEthernet3\",\r\n",
      "        \"config\": {\r\n",
      "          \"name\": \"FastEthernet3\",\r\n",
      "          \"type\": \"iana-if-type:ethernetCsmacd\",\r\n",
      "          \"description\": \"This is Fa3\",\r\n",
      "          \"enabled\": true\r\n",
      "        }\r\n",
      "      },\r\n",
      "      {\r\n",
      "        \"name\": \"FastEthernet4\",\r\n",
      "        \"config\": {\r\n",
      "          \"name\": \"FastEthernet4\",\r\n",
      "          \"type\": \"iana-if-type:ethernetCsmacd\",\r\n",
      "          \"enabled\": false\r\n",
      "        }\r\n",
      "      }\r\n",
      "    ]\r\n",
      "  },\r\n",
      "  \"openconfig-vlan:vlans\": {\r\n",
      "    \"vlan\": [\r\n",
      "      {\r\n",
      "        \"vlan-id\": 10,\r\n",
      "        \"config\": {\r\n",
      "          \"vlan-id\": 10,\r\n",
      "          \"name\": \"prod\",\r\n",
      "          \"status\": \"ACTIVE\"\r\n",
      "        }\r\n",
      "      },\r\n",
      "      {\r\n",
      "        \"vlan-id\": 20,\r\n",
      "        \"config\": {\r\n",
      "          \"vlan-id\": 20,\r\n",
      "          \"name\": \"dev\",\r\n",
      "          \"status\": \"SUSPENDED\"\r\n",
      "        }\r\n",
      "      }\r\n",
      "    ]\r\n",
      "  }\r\n",
      "}\r\n"
     ]
    }
   ],
   "source": [
    "%cat data/ios/data.json"
   ]
  },
  {
   "cell_type": "markdown",
   "metadata": {},
   "source": [
    "Nothing very complex, just a few interfaces and subinterfaces and a couple of vlans. The code for this tutorial is in `tutorial_translator.py`, so let's start by importing it:"
   ]
  },
  {
   "cell_type": "code",
   "execution_count": 3,
   "metadata": {},
   "outputs": [],
   "source": [
    "import tutorial_translator"
   ]
  },
  {
   "cell_type": "markdown",
   "metadata": {},
   "source": [
    "Now that we have imported the code let's start looking at the code piece by piece. The starting point is going to be the class `Interfaces` which will be used to parse `openconfig-interfaces:interfaces`:"
   ]
  },
  {
   "cell_type": "code",
   "execution_count": 4,
   "metadata": {},
   "outputs": [
    {
     "name": "stdout",
     "output_type": "stream",
     "text": [
      "\u001b[38;5;28;01mclass\u001b[39;00m \u001b[38;5;21;01mInterfaces\u001b[39;00m(Translator):\n",
      "    \u001b[38;5;124m\"\"\"\u001b[39m\n",
      "\u001b[38;5;124m    Implements openconfig-interfaces:interfaces\u001b[39m\n",
      "\n",
      "\u001b[38;5;124m    Using a :obj:`yangify.translator.config_tree.ConfigTree` object for the result\u001b[39m\n",
      "\u001b[38;5;124m    \"\"\"\u001b[39m\n",
      "\n",
      "    interface \u001b[38;5;241m=\u001b[39m Interface\n",
      "\n"
     ]
    }
   ],
   "source": [
    "show_code(tutorial_translator.Interfaces)"
   ]
  },
  {
   "cell_type": "markdown",
   "metadata": {},
   "source": [
    "Not much here other than the translator explaining how to store the commands. Other than that, the container `openconfig-interfaces:interfaces` only has a YANG list in the `interface` node. As `interface` is a grouping a different `Translator` class is used. Let's look at it:"
   ]
  },
  {
   "cell_type": "code",
   "execution_count": 5,
   "metadata": {},
   "outputs": [
    {
     "name": "stdout",
     "output_type": "stream",
     "text": [
      "\u001b[38;5;28;01mclass\u001b[39;00m \u001b[38;5;21;01mInterface\u001b[39;00m(Translator):\n",
      "    \u001b[38;5;124m\"\"\"\u001b[39m\n",
      "\u001b[38;5;124m    Implements openconfig-interfaces:interfaces/interface\u001b[39m\n",
      "\u001b[38;5;124m    \"\"\"\u001b[39m\n",
      "\n",
      "    \u001b[38;5;28;01mclass\u001b[39;00m \u001b[38;5;21;01mYangify\u001b[39;00m(TranslatorData):\n",
      "        \u001b[38;5;28;01mdef\u001b[39;00m \u001b[38;5;21m_remove_subinterfaces\u001b[39m(\u001b[38;5;28mself\u001b[39m, interface: Dict[\u001b[38;5;28mstr\u001b[39m, Any]) \u001b[38;5;241m-\u001b[39m\u001b[38;5;241m>\u001b[39m \u001b[38;5;28mNone\u001b[39m:\n",
      "            \u001b[38;5;124m\"\"\"\u001b[39m\n",
      "\u001b[38;5;124m            A helper function to remove subinterfaces.\u001b[39m\n",
      "\u001b[38;5;124m            \"\"\"\u001b[39m\n",
      "            subifaces \u001b[38;5;241m=\u001b[39m interface\u001b[38;5;241m.\u001b[39mget(\u001b[38;5;124m\"\u001b[39m\u001b[38;5;124msubinterfaces\u001b[39m\u001b[38;5;124m\"\u001b[39m, {})\u001b[38;5;241m.\u001b[39mget(\u001b[38;5;124m\"\u001b[39m\u001b[38;5;124msubinterface\u001b[39m\u001b[38;5;124m\"\u001b[39m, [])\n",
      "            \u001b[38;5;28;01mfor\u001b[39;00m subiface \u001b[38;5;129;01min\u001b[39;00m subifaces:\n",
      "                \u001b[38;5;28mself\u001b[39m\u001b[38;5;241m.\u001b[39mroot_result\u001b[38;5;241m.\u001b[39madd_command(\n",
      "                    f\u001b[38;5;124m\"\u001b[39m\u001b[38;5;124mno interface {self.key}.{subiface[\u001b[39m\u001b[38;5;124m'\u001b[39m\u001b[38;5;124mindex\u001b[39m\u001b[38;5;124m'\u001b[39m\u001b[38;5;124m]}\u001b[39m\u001b[38;5;124m\"\u001b[39m\n",
      "                )\n",
      "\n",
      "        \u001b[38;5;28;01mdef\u001b[39;00m \u001b[38;5;21mpre_process_list\u001b[39m(\u001b[38;5;28mself\u001b[39m) \u001b[38;5;241m-\u001b[39m\u001b[38;5;241m>\u001b[39m \u001b[38;5;28mNone\u001b[39m:\n",
      "            \u001b[38;5;124m\"\"\"\u001b[39m\n",
      "\u001b[38;5;124m            If we have interfaces to remove we do so before processing the list of interfaces.\u001b[39m\n",
      "\u001b[38;5;124m            \"\"\"\u001b[39m\n",
      "            \u001b[38;5;28;01mfor\u001b[39;00m element \u001b[38;5;129;01min\u001b[39;00m \u001b[38;5;28mself\u001b[39m\u001b[38;5;241m.\u001b[39mto_remove:\n",
      "                \u001b[38;5;28mself\u001b[39m\u001b[38;5;241m.\u001b[39mresult\u001b[38;5;241m.\u001b[39madd_command(f\u001b[38;5;124m\"\u001b[39m\u001b[38;5;124mdefault interface {element[\u001b[39m\u001b[38;5;124m'\u001b[39m\u001b[38;5;124mname\u001b[39m\u001b[38;5;124m'\u001b[39m\u001b[38;5;124m]}\u001b[39m\u001b[38;5;124m\"\u001b[39m)\n",
      "                \u001b[38;5;28mself\u001b[39m\u001b[38;5;241m.\u001b[39m_remove_subinterfaces(element)\n",
      "\n",
      "        \u001b[38;5;28;01mdef\u001b[39;00m \u001b[38;5;21mpre_process\u001b[39m(\u001b[38;5;28mself\u001b[39m) \u001b[38;5;241m-\u001b[39m\u001b[38;5;241m>\u001b[39m \u001b[38;5;28mNone\u001b[39m:\n",
      "            \u001b[38;5;124m\"\"\"\u001b[39m\n",
      "\u001b[38;5;124m            Before processing a given interface we are going to do a couple of things:\u001b[39m\n",
      "\n",
      "\u001b[38;5;124m            1. if we are replacing the configuration we default the interface and its\u001b[39m\n",
      "\u001b[38;5;124m               subinterfaces\u001b[39m\n",
      "\u001b[38;5;124m            2. We create a placeholder for the interface configuration and we set it\u001b[39m\n",
      "\u001b[38;5;124m               in self.result\u001b[39m\n",
      "\u001b[38;5;124m            \"\"\"\u001b[39m\n",
      "            \u001b[38;5;28;01mif\u001b[39;00m \u001b[38;5;28mself\u001b[39m\u001b[38;5;241m.\u001b[39mreplace:\n",
      "                \u001b[38;5;28mself\u001b[39m\u001b[38;5;241m.\u001b[39mroot_result\u001b[38;5;241m.\u001b[39madd_command(f\u001b[38;5;124m\"\u001b[39m\u001b[38;5;124mdefault interface {self.key}\u001b[39m\u001b[38;5;124m\"\u001b[39m)\n",
      "                \u001b[38;5;28;01mif\u001b[39;00m \u001b[38;5;28mself\u001b[39m\u001b[38;5;241m.\u001b[39mrunning \u001b[38;5;129;01mis\u001b[39;00m \u001b[38;5;129;01mnot\u001b[39;00m \u001b[38;5;28mNone\u001b[39m:\n",
      "                    \u001b[38;5;66m# self.running.goto(self.path).value is going to return the running\u001b[39m\n",
      "                    \u001b[38;5;66m# value of the current interface\u001b[39m\n",
      "                    \u001b[38;5;28;01mtry\u001b[39;00m:\n",
      "                        \u001b[38;5;28mself\u001b[39m\u001b[38;5;241m.\u001b[39m_remove_subinterfaces(\u001b[38;5;28mself\u001b[39m\u001b[38;5;241m.\u001b[39mrunning\u001b[38;5;241m.\u001b[39mgoto(\u001b[38;5;28mself\u001b[39m\u001b[38;5;241m.\u001b[39mpath)\u001b[38;5;241m.\u001b[39mvalue)\n",
      "                    \u001b[38;5;28;01mexcept\u001b[39;00m NonexistentInstance:\n",
      "                        \u001b[38;5;66m# if it's a candidate interface self.running.goto(self.path) will\u001b[39m\n",
      "                        \u001b[38;5;66m# raise this exception\u001b[39m\n",
      "                        \u001b[38;5;28;01mpass\u001b[39;00m\n",
      "            path \u001b[38;5;241m=\u001b[39m f\u001b[38;5;124m\"\u001b[39m\u001b[38;5;124minterface {self.key}\u001b[39m\u001b[38;5;124m\"\u001b[39m\n",
      "            \u001b[38;5;66m# we insert it as soon as possible to maintain order\u001b[39m\n",
      "            \u001b[38;5;28mself\u001b[39m\u001b[38;5;241m.\u001b[39mresult \u001b[38;5;241m=\u001b[39m \u001b[38;5;28mself\u001b[39m\u001b[38;5;241m.\u001b[39mroot_result\u001b[38;5;241m.\u001b[39mnew_section(path)\n",
      "\n",
      "        \u001b[38;5;28;01mdef\u001b[39;00m \u001b[38;5;21mpost_process\u001b[39m(\u001b[38;5;28mself\u001b[39m) \u001b[38;5;241m-\u001b[39m\u001b[38;5;241m>\u001b[39m \u001b[38;5;28mNone\u001b[39m:\n",
      "            \u001b[38;5;124m\"\"\"\u001b[39m\n",
      "\u001b[38;5;124m            After we are doing processing the interface we can either\u001b[39m\n",
      "\u001b[38;5;124m            remove entirely the interface from the configuration if it's empty\u001b[39m\n",
      "\u001b[38;5;124m            or add_command exit\\n! to the commands\u001b[39m\n",
      "\u001b[38;5;124m            \"\"\"\u001b[39m\n",
      "            path \u001b[38;5;241m=\u001b[39m f\u001b[38;5;124m\"\u001b[39m\u001b[38;5;124minterface {self.key}\u001b[39m\u001b[38;5;124m\"\u001b[39m\n",
      "            \u001b[38;5;28;01mif\u001b[39;00m \u001b[38;5;129;01mnot\u001b[39;00m \u001b[38;5;28mself\u001b[39m\u001b[38;5;241m.\u001b[39mresult:\n",
      "                \u001b[38;5;28mself\u001b[39m\u001b[38;5;241m.\u001b[39mroot_result\u001b[38;5;241m.\u001b[39mpop_section(path)\n",
      "            \u001b[38;5;28;01melse\u001b[39;00m:\n",
      "                \u001b[38;5;28mself\u001b[39m\u001b[38;5;241m.\u001b[39mresult\u001b[38;5;241m.\u001b[39madd_command(\u001b[38;5;124m\"\u001b[39m\u001b[38;5;124m   exit\u001b[39m\u001b[38;5;130;01m\\n\u001b[39;00m\u001b[38;5;124m!\u001b[39m\u001b[38;5;124m\"\u001b[39m)\n",
      "\n",
      "    name \u001b[38;5;241m=\u001b[39m unneeded\n",
      "\n",
      "    subinterfaces \u001b[38;5;241m=\u001b[39m Subinterfaces\n",
      "    config \u001b[38;5;241m=\u001b[39m InterfaceConfig\n",
      "\n"
     ]
    }
   ],
   "source": [
    "show_code(tutorial_translator.Interface)"
   ]
  },
  {
   "cell_type": "markdown",
   "metadata": {},
   "source": [
    "Ok, this may look daunting but it's not that hard. Half of the code is just documentation and comments trying to explain what's going on. I suggest you to read it carefully but in broad terms:\n",
    "\n",
    "1. Before parsing the list we remove the interfaces that are no longer needed (assuming a merge or replace operation)\n",
    "2. Before parsing an element of the list:\n",
    "  1. we default the interface and its subinterfaces if we are doing a replace operation\n",
    "  2. we create a placeholder for our interface configuration in ``self.yy.result``, we also attach the placeholder to the ``self.yy.root_result``\n",
    "3. Finally, when we are done parsing the interface we either append ``exit\\n!`` to make it look more like the original IOS configuration or we completely remove the interface from the configuration if it's empty. This last step will be useful to have cleaner merge operations as we will see later.\n",
    "\n",
    "Now let's look at the InterfaceConfig class that implements openconfig-interfaces:interfaces/interface/config:"
   ]
  },
  {
   "cell_type": "code",
   "execution_count": 6,
   "metadata": {},
   "outputs": [
    {
     "name": "stdout",
     "output_type": "stream",
     "text": [
      "\u001b[38;5;28;01mclass\u001b[39;00m \u001b[38;5;21;01mInterfaceConfig\u001b[39;00m(Translator):\n",
      "    \u001b[38;5;124m\"\"\"\u001b[39m\n",
      "\u001b[38;5;124m    Implements openconfig-interfaces:interfaces/interface/config\u001b[39m\n",
      "\u001b[38;5;124m    \"\"\"\u001b[39m\n",
      "\n",
      "    name \u001b[38;5;241m=\u001b[39m unneeded\n",
      "    \u001b[38;5;28mtype\u001b[39m \u001b[38;5;241m=\u001b[39m unneeded\n",
      "\n",
      "    \u001b[38;5;28;01mdef\u001b[39;00m \u001b[38;5;21mdescription\u001b[39m(\u001b[38;5;28mself\u001b[39m, value: Optional[\u001b[38;5;28mstr\u001b[39m]) \u001b[38;5;241m-\u001b[39m\u001b[38;5;241m>\u001b[39m \u001b[38;5;28mNone\u001b[39m:\n",
      "        \u001b[38;5;28;01mif\u001b[39;00m value:\n",
      "            \u001b[38;5;28mself\u001b[39m\u001b[38;5;241m.\u001b[39myy\u001b[38;5;241m.\u001b[39mresult\u001b[38;5;241m.\u001b[39madd_command(f\u001b[38;5;124m\"\u001b[39m\u001b[38;5;124m   description {value}\u001b[39m\u001b[38;5;124m\"\u001b[39m)\n",
      "        \u001b[38;5;28;01melse\u001b[39;00m:\n",
      "            \u001b[38;5;28mself\u001b[39m\u001b[38;5;241m.\u001b[39myy\u001b[38;5;241m.\u001b[39mresult\u001b[38;5;241m.\u001b[39madd_command(f\u001b[38;5;124m\"\u001b[39m\u001b[38;5;124m   no description\u001b[39m\u001b[38;5;124m\"\u001b[39m)\n",
      "\n",
      "    \u001b[38;5;28;01mdef\u001b[39;00m \u001b[38;5;21menabled\u001b[39m(\u001b[38;5;28mself\u001b[39m, value: Optional[\u001b[38;5;28mbool\u001b[39m]) \u001b[38;5;241m-\u001b[39m\u001b[38;5;241m>\u001b[39m \u001b[38;5;28mNone\u001b[39m:\n",
      "        \u001b[38;5;28;01mif\u001b[39;00m value:\n",
      "            \u001b[38;5;28mself\u001b[39m\u001b[38;5;241m.\u001b[39myy\u001b[38;5;241m.\u001b[39mresult\u001b[38;5;241m.\u001b[39madd_command(f\u001b[38;5;124m\"\u001b[39m\u001b[38;5;124m   no shutdown\u001b[39m\u001b[38;5;124m\"\u001b[39m)\n",
      "        \u001b[38;5;28;01melse\u001b[39;00m:\n",
      "            \u001b[38;5;28mself\u001b[39m\u001b[38;5;241m.\u001b[39myy\u001b[38;5;241m.\u001b[39mresult\u001b[38;5;241m.\u001b[39madd_command(f\u001b[38;5;124m\"\u001b[39m\u001b[38;5;124m   shutdown\u001b[39m\u001b[38;5;124m\"\u001b[39m)\n",
      "\n"
     ]
    }
   ],
   "source": [
    "show_code(tutorial_translator.InterfaceConfig)"
   ]
  },
  {
   "cell_type": "markdown",
   "metadata": {},
   "source": [
    "Let's explain what's going on here:\n",
    "\n",
    "1. There is nothing to do with ``name`` and ``type`` as that doesn't translate into anything.\n",
    "2. Both ``description`` and ``enabled`` are going to receive the new value, which may be empty when merging configuration as we try to unset any of those. All that those methods need to do is append the right command for both setting and unsetting such value."
   ]
  },
  {
   "cell_type": "markdown",
   "metadata": {},
   "source": [
    "Now let's circle back to openconfig-interfaces:interfaces/interface and head down to the subinterfaces container, which was parsed with the Subinterfaces class:"
   ]
  },
  {
   "cell_type": "code",
   "execution_count": 7,
   "metadata": {},
   "outputs": [
    {
     "name": "stdout",
     "output_type": "stream",
     "text": [
      "\u001b[38;5;28;01mclass\u001b[39;00m \u001b[38;5;21;01mSubinterfaces\u001b[39;00m(Translator):\n",
      "    \u001b[38;5;124m\"\"\"\u001b[39m\n",
      "\u001b[38;5;124m    Implements openconfig-interfaces:interfaces/interface/subinterfaces\u001b[39m\n",
      "\u001b[38;5;124m    \"\"\"\u001b[39m\n",
      "\n",
      "    subinterface \u001b[38;5;241m=\u001b[39m Subinterface\n",
      "\n"
     ]
    }
   ],
   "source": [
    "show_code(tutorial_translator.Subinterfaces)"
   ]
  },
  {
   "cell_type": "markdown",
   "metadata": {},
   "source": [
    "Like the `Interface` class, not much to look at here, let's head down to the `Subinterface` class:"
   ]
  },
  {
   "cell_type": "code",
   "execution_count": 8,
   "metadata": {},
   "outputs": [
    {
     "name": "stdout",
     "output_type": "stream",
     "text": [
      "\u001b[38;5;28;01mclass\u001b[39;00m \u001b[38;5;21;01mSubinterface\u001b[39;00m(Translator):\n",
      "    \u001b[38;5;124m\"\"\"\u001b[39m\n",
      "\u001b[38;5;124m    Implements openconfig-interfaces:interfaces/interface/subinterfaces/subinterface\u001b[39m\n",
      "\u001b[38;5;124m    \"\"\"\u001b[39m\n",
      "\n",
      "    \u001b[38;5;28;01mclass\u001b[39;00m \u001b[38;5;21;01mYangify\u001b[39;00m(TranslatorData):\n",
      "        \u001b[38;5;28;01mdef\u001b[39;00m \u001b[38;5;21mpre_process_list\u001b[39m(\u001b[38;5;28mself\u001b[39m) \u001b[38;5;241m-\u001b[39m\u001b[38;5;241m>\u001b[39m \u001b[38;5;28mNone\u001b[39m:\n",
      "            \u001b[38;5;124m\"\"\"\u001b[39m\n",
      "\u001b[38;5;124m            If we need to remove itnerfaces we do it here. However, will need to\u001b[39m\n",
      "\u001b[38;5;124m            get the key of the parent interface first as we will need it\u001b[39m\n",
      "\u001b[38;5;124m            to remove the subinterfaces. Remember that subinterfaces in openconfig\u001b[39m\n",
      "\u001b[38;5;124m            are referenced by their index and don't have a fully qualified name\u001b[39m\n",
      "\u001b[38;5;124m            \"\"\"\u001b[39m\n",
      "            parent_key \u001b[38;5;241m=\u001b[39m \u001b[38;5;28mself\u001b[39m\u001b[38;5;241m.\u001b[39mkeys[\u001b[38;5;124m\"\u001b[39m\u001b[38;5;124m/openconfig-interfaces:interfaces/interface\u001b[39m\u001b[38;5;124m\"\u001b[39m]\n",
      "            \u001b[38;5;28;01mfor\u001b[39;00m element \u001b[38;5;129;01min\u001b[39;00m \u001b[38;5;28mself\u001b[39m\u001b[38;5;241m.\u001b[39mto_remove:\n",
      "                iface_name \u001b[38;5;241m=\u001b[39m f\u001b[38;5;124m\"\u001b[39m\u001b[38;5;124m{parent_key}.{element[\u001b[39m\u001b[38;5;124m'\u001b[39m\u001b[38;5;124mindex\u001b[39m\u001b[38;5;124m'\u001b[39m\u001b[38;5;124m]}\u001b[39m\u001b[38;5;124m\"\u001b[39m\n",
      "                \u001b[38;5;28mself\u001b[39m\u001b[38;5;241m.\u001b[39mroot_result\u001b[38;5;241m.\u001b[39madd_command(f\u001b[38;5;124m\"\u001b[39m\u001b[38;5;124mno interface {iface_name}\u001b[39m\u001b[38;5;124m\"\u001b[39m)\n",
      "\n",
      "        \u001b[38;5;28;01mdef\u001b[39;00m \u001b[38;5;21mpre_process\u001b[39m(\u001b[38;5;28mself\u001b[39m) \u001b[38;5;241m-\u001b[39m\u001b[38;5;241m>\u001b[39m \u001b[38;5;28mNone\u001b[39m:\n",
      "            \u001b[38;5;124m\"\"\"\u001b[39m\n",
      "\u001b[38;5;124m            We create a placeholder for our configuration in self.result, we attach it to\u001b[39m\n",
      "\u001b[38;5;124m            self.root_result and also default the subinterface if we are in replace mode\u001b[39m\n",
      "\u001b[38;5;124m            \"\"\"\u001b[39m\n",
      "            parent_key \u001b[38;5;241m=\u001b[39m \u001b[38;5;28mself\u001b[39m\u001b[38;5;241m.\u001b[39mkeys[\u001b[38;5;124m\"\u001b[39m\u001b[38;5;124m/openconfig-interfaces:interfaces/interface\u001b[39m\u001b[38;5;124m\"\u001b[39m]\n",
      "            \u001b[38;5;28mself\u001b[39m\u001b[38;5;241m.\u001b[39mkeys[\u001b[38;5;124m\"\u001b[39m\u001b[38;5;124msubinterface_key\u001b[39m\u001b[38;5;124m\"\u001b[39m] \u001b[38;5;241m=\u001b[39m f\u001b[38;5;124m\"\u001b[39m\u001b[38;5;124m{parent_key}.{self.key}\u001b[39m\u001b[38;5;124m\"\u001b[39m\n",
      "            path \u001b[38;5;241m=\u001b[39m f\u001b[38;5;124m\"\u001b[39m\u001b[38;5;124minterface {self.keys[\u001b[39m\u001b[38;5;124m'\u001b[39m\u001b[38;5;124msubinterface_key\u001b[39m\u001b[38;5;124m'\u001b[39m\u001b[38;5;124m]}\u001b[39m\u001b[38;5;124m\"\u001b[39m\n",
      "            \u001b[38;5;28;01mif\u001b[39;00m \u001b[38;5;28mself\u001b[39m\u001b[38;5;241m.\u001b[39mreplace:\n",
      "                \u001b[38;5;28mself\u001b[39m\u001b[38;5;241m.\u001b[39mroot_result\u001b[38;5;241m.\u001b[39madd_command(\n",
      "                    f\u001b[38;5;124m\"\u001b[39m\u001b[38;5;124mno interface {self.keys[\u001b[39m\u001b[38;5;124m'\u001b[39m\u001b[38;5;124msubinterface_key\u001b[39m\u001b[38;5;124m'\u001b[39m\u001b[38;5;124m]}\u001b[39m\u001b[38;5;124m\"\u001b[39m\n",
      "                )\n",
      "            \u001b[38;5;28mself\u001b[39m\u001b[38;5;241m.\u001b[39mresult \u001b[38;5;241m=\u001b[39m \u001b[38;5;28mself\u001b[39m\u001b[38;5;241m.\u001b[39mroot_result\u001b[38;5;241m.\u001b[39mnew_section(path)\n",
      "\n",
      "        \u001b[38;5;28;01mdef\u001b[39;00m \u001b[38;5;21mpost_process\u001b[39m(\u001b[38;5;28mself\u001b[39m) \u001b[38;5;241m-\u001b[39m\u001b[38;5;241m>\u001b[39m \u001b[38;5;28mNone\u001b[39m:\n",
      "            \u001b[38;5;124m\"\"\"\u001b[39m\n",
      "\u001b[38;5;124m            After we are doing processing the interface we can either\u001b[39m\n",
      "\u001b[38;5;124m            remove entirely the interface from the configuration if it's empty\u001b[39m\n",
      "\u001b[38;5;124m            or add_command exit\\n! to the commands\u001b[39m\n",
      "\u001b[38;5;124m            \"\"\"\u001b[39m\n",
      "            path \u001b[38;5;241m=\u001b[39m f\u001b[38;5;124m\"\u001b[39m\u001b[38;5;124minterface {self.keys[\u001b[39m\u001b[38;5;124m'\u001b[39m\u001b[38;5;124msubinterface_key\u001b[39m\u001b[38;5;124m'\u001b[39m\u001b[38;5;124m]}\u001b[39m\u001b[38;5;124m\"\u001b[39m\n",
      "            \u001b[38;5;28;01mif\u001b[39;00m \u001b[38;5;129;01mnot\u001b[39;00m \u001b[38;5;28mself\u001b[39m\u001b[38;5;241m.\u001b[39mresult:\n",
      "                \u001b[38;5;28mself\u001b[39m\u001b[38;5;241m.\u001b[39mroot_result\u001b[38;5;241m.\u001b[39mpop_section(path)\n",
      "            \u001b[38;5;28;01melse\u001b[39;00m:\n",
      "                \u001b[38;5;28mself\u001b[39m\u001b[38;5;241m.\u001b[39mresult\u001b[38;5;241m.\u001b[39madd_command(\u001b[38;5;124m\"\u001b[39m\u001b[38;5;124m   exit\u001b[39m\u001b[38;5;130;01m\\n\u001b[39;00m\u001b[38;5;124m!\u001b[39m\u001b[38;5;124m\"\u001b[39m)\n",
      "\n",
      "    index \u001b[38;5;241m=\u001b[39m unneeded\n",
      "    config \u001b[38;5;241m=\u001b[39m SubinterfaceConfig\n",
      "\n"
     ]
    }
   ],
   "source": [
    "show_code(tutorial_translator.Subinterface)"
   ]
  },
  {
   "cell_type": "markdown",
   "metadata": {},
   "source": [
    "Like the `Interface` class it might look daunting but it shouldn't be that hard to grasp. It's also very similar to it. I suggest reading the code carefully, paying attention to the commands and referring back to the explanation after the `Interface` class if something is not clear.\n",
    "\n",
    "Finally, let's look at the `SubinterfaceConfig` class:"
   ]
  },
  {
   "cell_type": "code",
   "execution_count": 9,
   "metadata": {},
   "outputs": [
    {
     "name": "stdout",
     "output_type": "stream",
     "text": [
      "\u001b[38;5;28;01mclass\u001b[39;00m \u001b[38;5;21;01mSubinterfaceConfig\u001b[39;00m(Translator):\n",
      "    \u001b[38;5;124m\"\"\"\u001b[39m\n",
      "\u001b[38;5;124m    Implements openconfig-interfaces:interfaces/interface/subinterfaces/subinterface/config\u001b[39m\n",
      "\u001b[38;5;124m    \"\"\"\u001b[39m\n",
      "\n",
      "    index \u001b[38;5;241m=\u001b[39m unneeded\n",
      "\n",
      "    \u001b[38;5;28;01mdef\u001b[39;00m \u001b[38;5;21mdescription\u001b[39m(\u001b[38;5;28mself\u001b[39m, value: Optional[\u001b[38;5;28mstr\u001b[39m]) \u001b[38;5;241m-\u001b[39m\u001b[38;5;241m>\u001b[39m \u001b[38;5;28mNone\u001b[39m:\n",
      "        \u001b[38;5;28;01mif\u001b[39;00m value:\n",
      "            \u001b[38;5;28mself\u001b[39m\u001b[38;5;241m.\u001b[39myy\u001b[38;5;241m.\u001b[39mresult\u001b[38;5;241m.\u001b[39madd_command(f\u001b[38;5;124m\"\u001b[39m\u001b[38;5;124m   description {value}\u001b[39m\u001b[38;5;124m\"\u001b[39m)\n",
      "        \u001b[38;5;28;01melse\u001b[39;00m:\n",
      "            \u001b[38;5;28mself\u001b[39m\u001b[38;5;241m.\u001b[39myy\u001b[38;5;241m.\u001b[39mresult\u001b[38;5;241m.\u001b[39madd_command(f\u001b[38;5;124m\"\u001b[39m\u001b[38;5;124m   no description\u001b[39m\u001b[38;5;124m\"\u001b[39m)\n",
      "\n"
     ]
    }
   ],
   "source": [
    "show_code(tutorial_translator.SubinterfaceConfig)"
   ]
  },
  {
   "cell_type": "markdown",
   "metadata": {},
   "source": [
    "Almost ideantical to the `InterfaceConfig` class.\n",
    "\n",
    "Now that we have the Translator classes we need to create the root translator. The root translator has the following functions:\n",
    "\n",
    "1. Allow the user pick and choose which translators to use\n",
    "2. Initialize the results, if needed.\n",
    "3. Perform some post operations, if needed.\n",
    "\n",
    "## Using the translator\n",
    "\n",
    "Our root class is going to load the Interfaces translator:"
   ]
  },
  {
   "cell_type": "code",
   "execution_count": 10,
   "metadata": {},
   "outputs": [],
   "source": [
    "from yangify import translator\n",
    "from yangify.translator.config_tree import ConfigTree\n",
    "\n",
    "\n",
    "class IOSTranslator(translator.RootTranslator):\n",
    "    class Yangify(translator.TranslatorData):\n",
    "        def init(self) -> None:\n",
    "            self.root_result = ConfigTree()\n",
    "            self.result = self.root_result\n",
    "\n",
    "        def post(self) -> None:\n",
    "            self.root_result = self.root_result.to_string()\n",
    "\n",
    "    interfaces = tutorial_translator.Interfaces"
   ]
  },
  {
   "cell_type": "markdown",
   "metadata": {},
   "source": [
    "Now we need to load the data:"
   ]
  },
  {
   "cell_type": "code",
   "execution_count": 11,
   "metadata": {},
   "outputs": [],
   "source": [
    "import json\n",
    "with open(\"data/ios/data.json\", \"r\") as f:\n",
    "    data = json.load(f)"
   ]
  },
  {
   "cell_type": "markdown",
   "metadata": {},
   "source": [
    "Now we will create the datamodel as we will need it later on:"
   ]
  },
  {
   "cell_type": "code",
   "execution_count": 12,
   "metadata": {},
   "outputs": [],
   "source": [
    "from yangson.datamodel import DataModel\n",
    "dm = DataModel.from_file(\"yang/yang-library-data.json\", [\"yang/yang-modules/ietf\", \"yang/yang-modules/openconfig\"])"
   ]
  },
  {
   "cell_type": "markdown",
   "metadata": {},
   "source": [
    "Finally, we are going to instantiate the `IOSTranslator` and call the `process` method: "
   ]
  },
  {
   "cell_type": "code",
   "execution_count": 13,
   "metadata": {},
   "outputs": [],
   "source": [
    "p = IOSTranslator(dm, candidate=data)\n",
    "result = p.process()"
   ]
  },
  {
   "cell_type": "markdown",
   "metadata": {},
   "source": [
    "Now that we got the processed object, let's see the result:"
   ]
  },
  {
   "cell_type": "code",
   "execution_count": 14,
   "metadata": {},
   "outputs": [
    {
     "name": "stdout",
     "output_type": "stream",
     "text": [
      "interface FastEthernet1\n",
      "   description This is Fa1\n",
      "   shutdown\n",
      "   exit\n",
      "!\n",
      "interface FastEthernet1.1\n",
      "   description This is Fa1.1\n",
      "   exit\n",
      "!\n",
      "interface FastEthernet1.2\n",
      "   description This is Fa1.2\n",
      "   exit\n",
      "!\n",
      "interface FastEthernet3\n",
      "   description This is Fa3\n",
      "   no shutdown\n",
      "   exit\n",
      "!\n",
      "interface FastEthernet4\n",
      "   shutdown\n",
      "   exit\n",
      "!\n",
      "\n"
     ]
    }
   ],
   "source": [
    "print(result)"
   ]
  },
  {
   "cell_type": "markdown",
   "metadata": {},
   "source": [
    "## Adding a second translator\n",
    "\n",
    "In the previous example we created a parser that only translates the `openconfig-interfaces` model, however, our `tutorial_translator.py` contains code to also translate the `openconfig-vlan` model, let's create a second `RootTranslate` class that can translate both models:"
   ]
  },
  {
   "cell_type": "code",
   "execution_count": 15,
   "metadata": {},
   "outputs": [],
   "source": [
    "from yangify import translator\n",
    "from yangify.translator.config_tree import ConfigTree\n",
    "\n",
    "\n",
    "class IOSTranslator2(translator.RootTranslator):\n",
    "    class Yangify(translator.TranslatorData):\n",
    "        def init(self) -> None:\n",
    "            self.root_result = ConfigTree()\n",
    "            self.result = self.root_result\n",
    "\n",
    "        def post(self) -> None:\n",
    "            self.root_result = self.root_result.to_string()\n",
    "\n",
    "    interfaces = tutorial_translator.Interfaces\n",
    "    vlans = tutorial_translator.Vlans    "
   ]
  },
  {
   "cell_type": "code",
   "execution_count": 16,
   "metadata": {},
   "outputs": [],
   "source": [
    "p = IOSTranslator2(dm, candidate=data)\n",
    "result = p.process()"
   ]
  },
  {
   "cell_type": "code",
   "execution_count": 17,
   "metadata": {},
   "outputs": [
    {
     "name": "stdout",
     "output_type": "stream",
     "text": [
      "interface FastEthernet1\n",
      "   description This is Fa1\n",
      "   shutdown\n",
      "   exit\n",
      "!\n",
      "interface FastEthernet1.1\n",
      "   description This is Fa1.1\n",
      "   exit\n",
      "!\n",
      "interface FastEthernet1.2\n",
      "   description This is Fa1.2\n",
      "   exit\n",
      "!\n",
      "interface FastEthernet3\n",
      "   description This is Fa3\n",
      "   no shutdown\n",
      "   exit\n",
      "!\n",
      "interface FastEthernet4\n",
      "   shutdown\n",
      "   exit\n",
      "!\n",
      "vlan 10\n",
      "   name prod\n",
      "   no shutdown\n",
      "   exit\n",
      "!\n",
      "vlan 20\n",
      "   name dev\n",
      "   shutdown\n",
      "   exit\n",
      "!\n",
      "\n"
     ]
    }
   ],
   "source": [
    "print(result)"
   ]
  },
  {
   "cell_type": "markdown",
   "metadata": {},
   "source": [
    "## Replace\n",
    "\n",
    "Yangify implements a `replace` mode. The replace mode is useful to perform \"partial replaces\", let's see that last example enabling the `replace` functionality:"
   ]
  },
  {
   "cell_type": "code",
   "execution_count": 18,
   "metadata": {},
   "outputs": [],
   "source": [
    "p = IOSTranslator2(dm, candidate=data, replace=True)\n",
    "result = p.process()"
   ]
  },
  {
   "cell_type": "code",
   "execution_count": 19,
   "metadata": {},
   "outputs": [
    {
     "name": "stdout",
     "output_type": "stream",
     "text": [
      "default interface FastEthernet1\n",
      "interface FastEthernet1\n",
      "   description This is Fa1\n",
      "   shutdown\n",
      "   exit\n",
      "!\n",
      "no interface FastEthernet1.1\n",
      "interface FastEthernet1.1\n",
      "   description This is Fa1.1\n",
      "   exit\n",
      "!\n",
      "no interface FastEthernet1.2\n",
      "interface FastEthernet1.2\n",
      "   description This is Fa1.2\n",
      "   exit\n",
      "!\n",
      "default interface FastEthernet3\n",
      "interface FastEthernet3\n",
      "   description This is Fa3\n",
      "   no shutdown\n",
      "   exit\n",
      "!\n",
      "default interface FastEthernet4\n",
      "interface FastEthernet4\n",
      "   shutdown\n",
      "   exit\n",
      "!\n",
      "no vlan 10\n",
      "vlan 10\n",
      "   name prod\n",
      "   no shutdown\n",
      "   exit\n",
      "!\n",
      "no vlan 20\n",
      "vlan 20\n",
      "   name dev\n",
      "   shutdown\n",
      "   exit\n",
      "!\n",
      "\n"
     ]
    }
   ],
   "source": [
    "print(result)"
   ]
  },
  {
   "cell_type": "markdown",
   "metadata": {},
   "source": [
    "As you can see, what's happening here is that each block is being defaulted to it's original config (by either using the `default` or `no` prefix) before applying the configuration for such block. This is useful to clean those blocks and remove configuration that was applied manually and is not covered by your YANG models."
   ]
  }
 ],
 "metadata": {
  "celltoolbar": "Edit Metadata",
  "kernelspec": {
   "display_name": "Python 3",
   "language": "python",
   "name": "python3"
  },
  "language_info": {
   "codemirror_mode": {
    "name": "ipython",
    "version": 3
   },
   "file_extension": ".py",
   "mimetype": "text/x-python",
   "name": "python",
   "nbconvert_exporter": "python",
   "pygments_lexer": "ipython3",
   "version": "3.6.8"
  }
 },
 "nbformat": 4,
 "nbformat_minor": 2
}
