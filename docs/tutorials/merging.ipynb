{
 "cells": [
  {
   "cell_type": "code",
   "execution_count": 1,
   "metadata": {
    "nbsphinx": "hidden"
   },
   "outputs": [],
   "source": [
    "import copy\n",
    "import inspect\n",
    "\n",
    "from pygments import highlight\n",
    "from pygments.lexers import get_lexer_by_name\n",
    "from pygments.formatters import Terminal256Formatter\n",
    "\n",
    "def show_code(obj):\n",
    "    code = inspect.getsource(obj)\n",
    "    lexer = get_lexer_by_name(\"python\", stripall=True)\n",
    "    formatter = Terminal256Formatter(linenos=True, cssclass=\"source\")\n",
    "    result = highlight(code, lexer, formatter)\n",
    "    print(result)    "
   ]
  },
  {
   "cell_type": "markdown",
   "metadata": {},
   "source": [
    "# Merging and Replacing configurations\n",
    "\n",
    "<div class=\"alert alert-info\">\n",
    "This tutorial continues from the [Translating tutorial](translating.ipynb#Translating), so make sure you read it first.\n",
    "</div>\n",
    "\n",
    "When translating a configuration you can provide both the \"candidate\" data (the configuration you want to) and, optionally, you can provide also provide the \"running\" data (the configuration you start with). These concepts are the same as in [RFC 6241](https://tools.ietf.org/html/rfc6241). When providing the \"running\" data yangify is going to tell the Translator to:\n",
    "\n",
    "1. In **merge** mode:\n",
    "  1. Remove leaves that are no longer needed. This is done by calling `{ leaf_name }` with value `None`. Note that if you are not merging data, empty leaves are just ignored by yangify.\n",
    "  1. Remove elements of lists that are not present in the candidate data but where in the running data.\n",
    "  \n",
    "1. In **replace** mode:\n",
    "  1. Remove elements of lists that are not present in the candidate data but where in the running data.\n",
    "  1. Process the running config with `Yangigy.replace` set to `True`.\n",
    "  \n",
    "As with the previous tutorials, let's see this in action by example. We are going to use the same code as in the previous tutorial so let's start by importing it and creating the `RootTranslator` object:"
   ]
  },
  {
   "cell_type": "code",
   "execution_count": 2,
   "metadata": {},
   "outputs": [],
   "source": [
    "import tutorial_translator\n",
    "\n",
    "from yangify import translator\n",
    "from yangify.translator.config_tree import ConfigTree\n",
    "\n",
    "\n",
    "class IOSTranslator(translator.RootTranslator):\n",
    "    class Yangify(translator.TranslatorData):\n",
    "        def init(self) -> None:\n",
    "            self.root_result = ConfigTree()\n",
    "            self.result = self.root_result\n",
    "\n",
    "        def post(self) -> None:\n",
    "            self.root_result = self.root_result.to_string()\n",
    "\n",
    "    interfaces = tutorial_translator.Interfaces\n",
    "    vlans = tutorial_translator.Vlans "
   ]
  },
  {
   "cell_type": "markdown",
   "metadata": {},
   "source": [
    "Now let's load some data that we will use throughout this tutorial. We will start by setting this initial data into a \"running\" variable and then we will keep copying this running data into a \"candidate\" variable and modify it before passing it through the translator."
   ]
  },
  {
   "cell_type": "code",
   "execution_count": 3,
   "metadata": {},
   "outputs": [
    {
     "name": "stdout",
     "output_type": "stream",
     "text": [
      "{\r\n",
      "  \"openconfig-interfaces:interfaces\": {\r\n",
      "    \"interface\": [\r\n",
      "      {\r\n",
      "        \"name\": \"FastEthernet1\",\r\n",
      "        \"config\": {\r\n",
      "          \"name\": \"FastEthernet1\",\r\n",
      "          \"type\": \"iana-if-type:ethernetCsmacd\",\r\n",
      "          \"description\": \"This is Fa1\",\r\n",
      "          \"enabled\": false\r\n",
      "        },\r\n",
      "        \"subinterfaces\": {\r\n",
      "          \"subinterface\": [\r\n",
      "            {\r\n",
      "              \"index\": 1,\r\n",
      "              \"config\": {\r\n",
      "                \"index\": 1,\r\n",
      "                \"description\": \"This is Fa1.1\"\r\n",
      "              }\r\n",
      "            },\r\n",
      "            {\r\n",
      "              \"index\": 2,\r\n",
      "              \"config\": {\r\n",
      "                \"index\": 2,\r\n",
      "                \"description\": \"This is Fa1.2\"\r\n",
      "              }\r\n",
      "            }\r\n",
      "          ]\r\n",
      "        }\r\n",
      "      },\r\n",
      "      {\r\n",
      "        \"name\": \"FastEthernet3\",\r\n",
      "        \"config\": {\r\n",
      "          \"name\": \"FastEthernet3\",\r\n",
      "          \"type\": \"iana-if-type:ethernetCsmacd\",\r\n",
      "          \"description\": \"This is Fa3\",\r\n",
      "          \"enabled\": true\r\n",
      "        }\r\n",
      "      },\r\n",
      "      {\r\n",
      "        \"name\": \"FastEthernet4\",\r\n",
      "        \"config\": {\r\n",
      "          \"name\": \"FastEthernet4\",\r\n",
      "          \"type\": \"iana-if-type:ethernetCsmacd\",\r\n",
      "          \"enabled\": false\r\n",
      "        }\r\n",
      "      }\r\n",
      "    ]\r\n",
      "  },\r\n",
      "  \"openconfig-vlan:vlans\": {\r\n",
      "    \"vlan\": [\r\n",
      "      {\r\n",
      "        \"vlan-id\": 10,\r\n",
      "        \"config\": {\r\n",
      "          \"vlan-id\": 10,\r\n",
      "          \"name\": \"prod\",\r\n",
      "          \"status\": \"ACTIVE\"\r\n",
      "        }\r\n",
      "      },\r\n",
      "      {\r\n",
      "        \"vlan-id\": 20,\r\n",
      "        \"config\": {\r\n",
      "          \"vlan-id\": 20,\r\n",
      "          \"name\": \"dev\",\r\n",
      "          \"status\": \"SUSPENDED\"\r\n",
      "        }\r\n",
      "      }\r\n",
      "    ]\r\n",
      "  }\r\n",
      "}\r\n"
     ]
    }
   ],
   "source": [
    "%cat data/ios/data.json"
   ]
  },
  {
   "cell_type": "code",
   "execution_count": 4,
   "metadata": {},
   "outputs": [],
   "source": [
    "import json\n",
    "with open(\"data/ios/data.json\", \"r\") as f:\n",
    "    running = json.load(f)"
   ]
  },
  {
   "cell_type": "markdown",
   "metadata": {},
   "source": [
    "Now we will create the datamodel as we will need it later on:"
   ]
  },
  {
   "cell_type": "code",
   "execution_count": 5,
   "metadata": {},
   "outputs": [],
   "source": [
    "from yangson.datamodel import DataModel\n",
    "dm = DataModel.from_file(\"yang/yang-library-data.json\", [\"yang/yang-modules/ietf\", \"yang/yang-modules/openconfig\"])"
   ]
  },
  {
   "cell_type": "markdown",
   "metadata": {},
   "source": [
    "## Changing leaves\n",
    "\n",
    "Let's start by looking at what happens when we remove or change leaves:"
   ]
  },
  {
   "cell_type": "code",
   "execution_count": 6,
   "metadata": {},
   "outputs": [],
   "source": [
    "candidate = copy.deepcopy(running)\n",
    "# Removing \"description\" and \"enabled\" from Fa1\n",
    "candidate[\"openconfig-interfaces:interfaces\"][\"interface\"][0][\"config\"].pop(\"description\")\n",
    "candidate[\"openconfig-interfaces:interfaces\"][\"interface\"][0][\"config\"].pop(\"enabled\")\n",
    "# Setting a new description for Fa3\n",
    "candidate[\"openconfig-interfaces:interfaces\"][\"interface\"][1][\"config\"][\"description\"] = \"A new description\""
   ]
  },
  {
   "cell_type": "markdown",
   "metadata": {},
   "source": [
    "### Merge\n",
    "\n",
    "Now let's see the effect that's going to have in the \"merge\" operation (`replace=False`)"
   ]
  },
  {
   "cell_type": "code",
   "execution_count": 7,
   "metadata": {},
   "outputs": [
    {
     "name": "stdout",
     "output_type": "stream",
     "text": [
      "interface FastEthernet1\n",
      "   no description\n",
      "   shutdown\n",
      "   exit\n",
      "!\n",
      "interface FastEthernet3\n",
      "   description A new description\n",
      "   exit\n",
      "!\n",
      "\n"
     ]
    }
   ],
   "source": [
    "p = IOSTranslator(\n",
    "    dm,\n",
    "    candidate=candidate,\n",
    "    running=running,\n",
    "    replace=False,\n",
    ")\n",
    "print(p.process())"
   ]
  },
  {
   "cell_type": "markdown",
   "metadata": {},
   "source": [
    "Ok, intuitevely that's probably what we expected, let's see the code and see what happened and why:"
   ]
  },
  {
   "cell_type": "code",
   "execution_count": 8,
   "metadata": {},
   "outputs": [
    {
     "name": "stdout",
     "output_type": "stream",
     "text": [
      "\u001b[38;5;28;01mclass\u001b[39;00m \u001b[38;5;21;01mInterfaceConfig\u001b[39;00m(Translator):\n",
      "    \u001b[38;5;124m\"\"\"\u001b[39m\n",
      "\u001b[38;5;124m    Implements openconfig-interfaces:interfaces/interface/config\u001b[39m\n",
      "\u001b[38;5;124m    \"\"\"\u001b[39m\n",
      "\n",
      "    name \u001b[38;5;241m=\u001b[39m unneeded\n",
      "    \u001b[38;5;28mtype\u001b[39m \u001b[38;5;241m=\u001b[39m unneeded\n",
      "\n",
      "    \u001b[38;5;28;01mdef\u001b[39;00m \u001b[38;5;21mdescription\u001b[39m(\u001b[38;5;28mself\u001b[39m, value: Optional[\u001b[38;5;28mstr\u001b[39m]) \u001b[38;5;241m-\u001b[39m\u001b[38;5;241m>\u001b[39m \u001b[38;5;28mNone\u001b[39m:\n",
      "        \u001b[38;5;28;01mif\u001b[39;00m value:\n",
      "            \u001b[38;5;28mself\u001b[39m\u001b[38;5;241m.\u001b[39myy\u001b[38;5;241m.\u001b[39mresult\u001b[38;5;241m.\u001b[39madd_command(f\u001b[38;5;124m\"\u001b[39m\u001b[38;5;124m   description {value}\u001b[39m\u001b[38;5;124m\"\u001b[39m)\n",
      "        \u001b[38;5;28;01melse\u001b[39;00m:\n",
      "            \u001b[38;5;28mself\u001b[39m\u001b[38;5;241m.\u001b[39myy\u001b[38;5;241m.\u001b[39mresult\u001b[38;5;241m.\u001b[39madd_command(f\u001b[38;5;124m\"\u001b[39m\u001b[38;5;124m   no description\u001b[39m\u001b[38;5;124m\"\u001b[39m)\n",
      "\n",
      "    \u001b[38;5;28;01mdef\u001b[39;00m \u001b[38;5;21menabled\u001b[39m(\u001b[38;5;28mself\u001b[39m, value: Optional[\u001b[38;5;28mbool\u001b[39m]) \u001b[38;5;241m-\u001b[39m\u001b[38;5;241m>\u001b[39m \u001b[38;5;28mNone\u001b[39m:\n",
      "        \u001b[38;5;28;01mif\u001b[39;00m value:\n",
      "            \u001b[38;5;28mself\u001b[39m\u001b[38;5;241m.\u001b[39myy\u001b[38;5;241m.\u001b[39mresult\u001b[38;5;241m.\u001b[39madd_command(f\u001b[38;5;124m\"\u001b[39m\u001b[38;5;124m   no shutdown\u001b[39m\u001b[38;5;124m\"\u001b[39m)\n",
      "        \u001b[38;5;28;01melse\u001b[39;00m:\n",
      "            \u001b[38;5;28mself\u001b[39m\u001b[38;5;241m.\u001b[39myy\u001b[38;5;241m.\u001b[39mresult\u001b[38;5;241m.\u001b[39madd_command(f\u001b[38;5;124m\"\u001b[39m\u001b[38;5;124m   shutdown\u001b[39m\u001b[38;5;124m\"\u001b[39m)\n",
      "\n"
     ]
    }
   ],
   "source": [
    "show_code(tutorial_translator.InterfaceConfig)"
   ]
  },
  {
   "cell_type": "markdown",
   "metadata": {},
   "source": [
    "Let's see what happened:\n",
    "1. The Fa3 example is quite straightforward, `description` was called with a new value so `description {value}` was added to the list of commands to run.\n",
    "2. In the case of Fa1, both `description` and `enabled` were called with `value = None` because the leaves existed in the running but not in the candidate.\n",
    "\n",
    "<div class=\"alert alert-info\">\n",
    "    \n",
    "It's important to note that `Yangify` ignores the default values specified by the YANG model. You can read the default value though by calling `self.yy.schema.get_child(\"{leaf_name}\").default`. For instance:\n",
    "\n",
    "    def enabled(self, value: Optional[bool]) -> None:\n",
    "        if value is None:\n",
    "            value = self.yy.schema.get_child(\"description\").default\n",
    "        if value:\n",
    "            self.yy.result.append(f\"   no shutdown\")\n",
    "        else:\n",
    "            self.yy.result.append(f\"   shutdown\")\n",
    "            \n",
    "If this is something that people wants to do we may evalute adding a `use_defaults` option to the `Translator` class to do that automatically.\n",
    "</div>"
   ]
  },
  {
   "cell_type": "markdown",
   "metadata": {},
   "source": [
    "### Replace\n",
    "\n",
    "Now let's do the same but setting `replace=True` in our translator class:"
   ]
  },
  {
   "cell_type": "code",
   "execution_count": 9,
   "metadata": {},
   "outputs": [
    {
     "name": "stdout",
     "output_type": "stream",
     "text": [
      "default interface FastEthernet1\n",
      "no interface FastEthernet1.1\n",
      "no interface FastEthernet1.2\n",
      "interface FastEthernet1.1\n",
      "   description This is Fa1.1\n",
      "   exit\n",
      "!\n",
      "interface FastEthernet1.2\n",
      "   description This is Fa1.2\n",
      "   exit\n",
      "!\n",
      "default interface FastEthernet3\n",
      "interface FastEthernet3\n",
      "   description A new description\n",
      "   no shutdown\n",
      "   exit\n",
      "!\n",
      "default interface FastEthernet4\n",
      "interface FastEthernet4\n",
      "   shutdown\n",
      "   exit\n",
      "!\n",
      "no vlan 10\n",
      "vlan 10\n",
      "   name prod\n",
      "   no shutdown\n",
      "   exit\n",
      "!\n",
      "no vlan 20\n",
      "vlan 20\n",
      "   name dev\n",
      "   shutdown\n",
      "   exit\n",
      "!\n",
      "\n"
     ]
    }
   ],
   "source": [
    "p = IOSTranslator(\n",
    "    dm,\n",
    "    candidate=candidate,\n",
    "    running=running,\n",
    "    replace=True,\n",
    ")\n",
    "print(p.process())"
   ]
  },
  {
   "cell_type": "markdown",
   "metadata": {},
   "source": [
    "As you can see all the blocks where first defaulted or removed only to be reapplied again. In this case there is no need to actively remove in `Fa1` as the `default interface FastEthernet1` already took care of that."
   ]
  },
  {
   "cell_type": "markdown",
   "metadata": {},
   "source": [
    "## Adding element lists\n",
    "\n",
    "Now let's add a new vlan and see what happens:"
   ]
  },
  {
   "cell_type": "code",
   "execution_count": 10,
   "metadata": {},
   "outputs": [],
   "source": [
    "candidate = copy.deepcopy(running)\n",
    "vlan_30 = {\n",
    "    'vlan-id': 30,\n",
    "    'config': {\n",
    "        'vlan-id': 30,\n",
    "        'name': 'sales',\n",
    "        'status': 'ACTIVE'\n",
    "    }\n",
    "}    \n",
    "candidate[\"openconfig-vlan:vlans\"][\"vlan\"].append(vlan_30)"
   ]
  },
  {
   "cell_type": "markdown",
   "metadata": {},
   "source": [
    "### Merge\n",
    "\n",
    "The merge operation should just add this new vlan:"
   ]
  },
  {
   "cell_type": "code",
   "execution_count": 11,
   "metadata": {},
   "outputs": [
    {
     "name": "stdout",
     "output_type": "stream",
     "text": [
      "vlan 30\n",
      "   name sales\n",
      "   no shutdown\n",
      "   exit\n",
      "!\n",
      "\n"
     ]
    }
   ],
   "source": [
    "p = IOSTranslator(\n",
    "    dm,\n",
    "    candidate=candidate,\n",
    "    running=running,\n",
    "    replace=False,\n",
    ")\n",
    "print(p.process())"
   ]
  },
  {
   "cell_type": "markdown",
   "metadata": {},
   "source": [
    "### Replace\n",
    "\n",
    "The replace operation doesn't like leaving things to change so it will default and reapply all the blocks regardless:"
   ]
  },
  {
   "cell_type": "code",
   "execution_count": 12,
   "metadata": {},
   "outputs": [
    {
     "name": "stdout",
     "output_type": "stream",
     "text": [
      "default interface FastEthernet1\n",
      "no interface FastEthernet1.1\n",
      "no interface FastEthernet1.2\n",
      "interface FastEthernet1\n",
      "   description This is Fa1\n",
      "   shutdown\n",
      "   exit\n",
      "!\n",
      "interface FastEthernet1.1\n",
      "   description This is Fa1.1\n",
      "   exit\n",
      "!\n",
      "interface FastEthernet1.2\n",
      "   description This is Fa1.2\n",
      "   exit\n",
      "!\n",
      "default interface FastEthernet3\n",
      "interface FastEthernet3\n",
      "   description This is Fa3\n",
      "   no shutdown\n",
      "   exit\n",
      "!\n",
      "default interface FastEthernet4\n",
      "interface FastEthernet4\n",
      "   shutdown\n",
      "   exit\n",
      "!\n",
      "no vlan 10\n",
      "vlan 10\n",
      "   name prod\n",
      "   no shutdown\n",
      "   exit\n",
      "!\n",
      "no vlan 20\n",
      "vlan 20\n",
      "   name dev\n",
      "   shutdown\n",
      "   exit\n",
      "!\n",
      "no vlan 30\n",
      "vlan 30\n",
      "   name sales\n",
      "   no shutdown\n",
      "   exit\n",
      "!\n",
      "\n"
     ]
    }
   ],
   "source": [
    "p = IOSTranslator(\n",
    "    dm,\n",
    "    candidate=candidate,\n",
    "    running=running,\n",
    "    replace=True,\n",
    ")\n",
    "print(p.process())"
   ]
  },
  {
   "cell_type": "markdown",
   "metadata": {},
   "source": [
    "## Removing element lists\n",
    "\n",
    "Now let's remove an element of list, by removing a vlan:"
   ]
  },
  {
   "cell_type": "code",
   "execution_count": 13,
   "metadata": {},
   "outputs": [
    {
     "data": {
      "text/plain": [
       "{'vlan-id': 10, 'config': {'vlan-id': 10, 'name': 'prod', 'status': 'ACTIVE'}}"
      ]
     },
     "execution_count": 13,
     "metadata": {},
     "output_type": "execute_result"
    }
   ],
   "source": [
    "candidate = copy.deepcopy(running)\n",
    "# remove vlan10\n",
    "candidate[\"openconfig-vlan:vlans\"][\"vlan\"].pop(0)"
   ]
  },
  {
   "cell_type": "markdown",
   "metadata": {},
   "source": [
    "### Merge\n",
    "\n",
    "The merge operation should just remove the vlan:"
   ]
  },
  {
   "cell_type": "code",
   "execution_count": 14,
   "metadata": {},
   "outputs": [
    {
     "name": "stdout",
     "output_type": "stream",
     "text": [
      "no vlan 10\n",
      "\n"
     ]
    }
   ],
   "source": [
    "p = IOSTranslator(\n",
    "    dm,\n",
    "    candidate=candidate,\n",
    "    running=running,\n",
    "    replace=False,\n",
    ")\n",
    "print(p.process())"
   ]
  },
  {
   "cell_type": "markdown",
   "metadata": {},
   "source": [
    "### Replace\n",
    "\n",
    "While the replace, again, leaves no things to chance:"
   ]
  },
  {
   "cell_type": "code",
   "execution_count": 15,
   "metadata": {},
   "outputs": [
    {
     "name": "stdout",
     "output_type": "stream",
     "text": [
      "default interface FastEthernet1\n",
      "no interface FastEthernet1.1\n",
      "no interface FastEthernet1.2\n",
      "interface FastEthernet1\n",
      "   description This is Fa1\n",
      "   shutdown\n",
      "   exit\n",
      "!\n",
      "interface FastEthernet1.1\n",
      "   description This is Fa1.1\n",
      "   exit\n",
      "!\n",
      "interface FastEthernet1.2\n",
      "   description This is Fa1.2\n",
      "   exit\n",
      "!\n",
      "default interface FastEthernet3\n",
      "interface FastEthernet3\n",
      "   description This is Fa3\n",
      "   no shutdown\n",
      "   exit\n",
      "!\n",
      "default interface FastEthernet4\n",
      "interface FastEthernet4\n",
      "   shutdown\n",
      "   exit\n",
      "!\n",
      "no vlan 10\n",
      "no vlan 20\n",
      "vlan 20\n",
      "   name dev\n",
      "   shutdown\n",
      "   exit\n",
      "!\n",
      "\n"
     ]
    }
   ],
   "source": [
    "p = IOSTranslator(\n",
    "    dm,\n",
    "    candidate=candidate,\n",
    "    running=running,\n",
    "    replace=True,\n",
    ")\n",
    "print(p.process())"
   ]
  },
  {
   "cell_type": "markdown",
   "metadata": {},
   "source": [
    "##  No changes\n",
    "\n",
    "Let's see what happens when there are no changes.\n",
    "\n",
    "### Merge\n",
    "\n",
    "This one should detect there are no changes and report an empty result:"
   ]
  },
  {
   "cell_type": "code",
   "execution_count": 16,
   "metadata": {},
   "outputs": [
    {
     "name": "stdout",
     "output_type": "stream",
     "text": [
      "\n"
     ]
    }
   ],
   "source": [
    "p = IOSTranslator(\n",
    "    dm,\n",
    "    candidate=running,\n",
    "    running=running,\n",
    "    replace=False,\n",
    ")\n",
    "print(p.process())"
   ]
  },
  {
   "cell_type": "markdown",
   "metadata": {},
   "source": [
    "### Replace\n",
    "\n",
    "The replace should reapply everything though:"
   ]
  },
  {
   "cell_type": "code",
   "execution_count": 17,
   "metadata": {},
   "outputs": [
    {
     "name": "stdout",
     "output_type": "stream",
     "text": [
      "default interface FastEthernet1\n",
      "no interface FastEthernet1.1\n",
      "no interface FastEthernet1.2\n",
      "interface FastEthernet1\n",
      "   description This is Fa1\n",
      "   shutdown\n",
      "   exit\n",
      "!\n",
      "interface FastEthernet1.1\n",
      "   description This is Fa1.1\n",
      "   exit\n",
      "!\n",
      "interface FastEthernet1.2\n",
      "   description This is Fa1.2\n",
      "   exit\n",
      "!\n",
      "default interface FastEthernet3\n",
      "interface FastEthernet3\n",
      "   description This is Fa3\n",
      "   no shutdown\n",
      "   exit\n",
      "!\n",
      "default interface FastEthernet4\n",
      "interface FastEthernet4\n",
      "   shutdown\n",
      "   exit\n",
      "!\n",
      "no vlan 10\n",
      "vlan 10\n",
      "   name prod\n",
      "   no shutdown\n",
      "   exit\n",
      "!\n",
      "no vlan 20\n",
      "vlan 20\n",
      "   name dev\n",
      "   shutdown\n",
      "   exit\n",
      "!\n",
      "\n"
     ]
    }
   ],
   "source": [
    "p = IOSTranslator(\n",
    "    dm,\n",
    "    candidate=running,\n",
    "    running=running,\n",
    "    replace=True,\n",
    ")\n",
    "print(p.process())"
   ]
  }
 ],
 "metadata": {
  "celltoolbar": "Edit Metadata",
  "kernelspec": {
   "display_name": "Python 3",
   "language": "python",
   "name": "python3"
  },
  "language_info": {
   "codemirror_mode": {
    "name": "ipython",
    "version": 3
   },
   "file_extension": ".py",
   "mimetype": "text/x-python",
   "name": "python",
   "nbconvert_exporter": "python",
   "pygments_lexer": "ipython3",
   "version": "3.6.8"
  }
 },
 "nbformat": 4,
 "nbformat_minor": 2
}
