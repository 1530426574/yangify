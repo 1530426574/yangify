{
 "cells": [
  {
   "cell_type": "markdown",
   "metadata": {},
   "source": [
    "# Filtering the parser\n",
    "\n",
    "YANG models can grow very large and sometimes we may be interested in only a part of the tree. For those cases Yangify supports filtering the model when parsing.\n",
    "\n",
    "As usual, let's see by example. We are going to be using the same parser and data we used in our previous tutorial. Let's tart by loading the parser, data model and the configuration."
   ]
  },
  {
   "cell_type": "code",
   "execution_count": 1,
   "metadata": {},
   "outputs": [],
   "source": [
    "import json\n",
    "\n",
    "import tutorial_parser\n",
    "\n",
    "with open(\"data/ios/config.txt\", \"r\") as f:\n",
    "    config = f.read()\n",
    "    \n",
    "from yangson.datamodel import DataModel\n",
    "dm = DataModel.from_file(\"yang/yang-library-data.json\", [\"yang/yang-modules/ietf\", \"yang/yang-modules/openconfig\"])"
   ]
  },
  {
   "cell_type": "markdown",
   "metadata": {},
   "source": [
    "Now we are going to create our root parser:"
   ]
  },
  {
   "cell_type": "code",
   "execution_count": 2,
   "metadata": {},
   "outputs": [],
   "source": [
    "from yangify import parser\n",
    "from yangify.parser.text_tree import parse_indented_config\n",
    "\n",
    "class IOSParser(parser.RootParser):\n",
    "    class Yangify(parser.ParserData):\n",
    "        def init(self) -> None:\n",
    "            self.root_native = parse_indented_config(self.native.splitlines())\n",
    "            self.native = self.root_native\n",
    "\n",
    "    interfaces = tutorial_parser.Interfaces\n",
    "    vlans = tutorial_parser.Vlans"
   ]
  },
  {
   "cell_type": "markdown",
   "metadata": {},
   "source": [
    "Now let's see what we get by default:"
   ]
  },
  {
   "cell_type": "code",
   "execution_count": 3,
   "metadata": {},
   "outputs": [
    {
     "name": "stdout",
     "output_type": "stream",
     "text": [
      "{\n",
      "    \"openconfig-interfaces:interfaces\": {\n",
      "        \"interface\": [\n",
      "            {\n",
      "                \"name\": \"FastEthernet1\",\n",
      "                \"config\": {\n",
      "                    \"name\": \"FastEthernet1\",\n",
      "                    \"type\": \"iana-if-type:ethernetCsmacd\",\n",
      "                    \"description\": \"This is Fa1\",\n",
      "                    \"enabled\": false\n",
      "                },\n",
      "                \"subinterfaces\": {\n",
      "                    \"subinterface\": [\n",
      "                        {\n",
      "                            \"index\": 1,\n",
      "                            \"config\": {\n",
      "                                \"index\": 1,\n",
      "                                \"description\": \"This is Fa1.1\"\n",
      "                            }\n",
      "                        },\n",
      "                        {\n",
      "                            \"index\": 2,\n",
      "                            \"config\": {\n",
      "                                \"index\": 2,\n",
      "                                \"description\": \"This is Fa1.2\"\n",
      "                            }\n",
      "                        }\n",
      "                    ]\n",
      "                }\n",
      "            },\n",
      "            {\n",
      "                \"name\": \"FastEthernet3\",\n",
      "                \"config\": {\n",
      "                    \"name\": \"FastEthernet3\",\n",
      "                    \"type\": \"iana-if-type:ethernetCsmacd\",\n",
      "                    \"description\": \"This is Fa3\",\n",
      "                    \"enabled\": true\n",
      "                }\n",
      "            },\n",
      "            {\n",
      "                \"name\": \"FastEthernet4\",\n",
      "                \"config\": {\n",
      "                    \"name\": \"FastEthernet4\",\n",
      "                    \"type\": \"iana-if-type:ethernetCsmacd\",\n",
      "                    \"enabled\": false\n",
      "                }\n",
      "            }\n",
      "        ]\n",
      "    },\n",
      "    \"openconfig-vlan:vlans\": {\n",
      "        \"vlan\": [\n",
      "            {\n",
      "                \"vlan-id\": 10,\n",
      "                \"config\": {\n",
      "                    \"vlan-id\": 10,\n",
      "                    \"name\": \"prod\",\n",
      "                    \"status\": \"ACTIVE\"\n",
      "                }\n",
      "            },\n",
      "            {\n",
      "                \"vlan-id\": 20,\n",
      "                \"config\": {\n",
      "                    \"vlan-id\": 20,\n",
      "                    \"name\": \"dev\",\n",
      "                    \"status\": \"SUSPENDED\"\n",
      "                }\n",
      "            }\n",
      "        ]\n",
      "    }\n",
      "}\n"
     ]
    }
   ],
   "source": [
    "p = IOSParser(dm, native=config)\n",
    "result = p.process()\n",
    "print(json.dumps(result.raw_value(), indent=4))"
   ]
  },
  {
   "cell_type": "markdown",
   "metadata": {},
   "source": [
    "We got a lot of stuff! Let's imagine we only want the vlans:"
   ]
  },
  {
   "cell_type": "code",
   "execution_count": 4,
   "metadata": {},
   "outputs": [
    {
     "name": "stdout",
     "output_type": "stream",
     "text": [
      "{\n",
      "    \"openconfig-vlan:vlans\": {\n",
      "        \"vlan\": [\n",
      "            {\n",
      "                \"vlan-id\": 10,\n",
      "                \"config\": {\n",
      "                    \"vlan-id\": 10,\n",
      "                    \"name\": \"prod\",\n",
      "                    \"status\": \"ACTIVE\"\n",
      "                }\n",
      "            },\n",
      "            {\n",
      "                \"vlan-id\": 20,\n",
      "                \"config\": {\n",
      "                    \"vlan-id\": 20,\n",
      "                    \"name\": \"dev\",\n",
      "                    \"status\": \"SUSPENDED\"\n",
      "                }\n",
      "            }\n",
      "        ]\n",
      "    }\n",
      "}\n"
     ]
    }
   ],
   "source": [
    "p = IOSParser(\n",
    "    dm,\n",
    "    native=config,\n",
    "    include=[\"/openconfig-vlan:vlans\"]\n",
    ")\n",
    "result = p.process()\n",
    "print(json.dumps(result.raw_value(), indent=4))"
   ]
  },
  {
   "cell_type": "markdown",
   "metadata": {},
   "source": [
    "By just passing `include=[\"/openconfig-vlan:vlans\"]` we told the parser that we only wanted to include in our parsing that specific path.\n",
    "\n",
    "The path can be a bit more specific. Imagine you only want your vlan names:"
   ]
  },
  {
   "cell_type": "code",
   "execution_count": 5,
   "metadata": {},
   "outputs": [
    {
     "name": "stdout",
     "output_type": "stream",
     "text": [
      "{\n",
      "    \"openconfig-vlan:vlans\": {\n",
      "        \"vlan\": [\n",
      "            {\n",
      "                \"vlan-id\": 10,\n",
      "                \"config\": {\n",
      "                    \"name\": \"prod\"\n",
      "                }\n",
      "            },\n",
      "            {\n",
      "                \"vlan-id\": 20,\n",
      "                \"config\": {\n",
      "                    \"name\": \"dev\"\n",
      "                }\n",
      "            }\n",
      "        ]\n",
      "    }\n",
      "}\n"
     ]
    }
   ],
   "source": [
    "p = IOSParser(\n",
    "    dm,\n",
    "    native=config,\n",
    "    include=[\"/openconfig-vlan:vlans/vlan/config/name\"]\n",
    ")\n",
    "result = p.process(validate=False)\n",
    "print(json.dumps(result.raw_value(), indent=4))"
   ]
  },
  {
   "cell_type": "markdown",
   "metadata": {},
   "source": [
    "Now we managed to filter even more the model. However, not that we passed to the `process` function a new argument, `validate=False`. Why? Turns out that `/openconfig-vlan:vlans/vlan/vlan-id` is a reference to `/openconfig-vlan:vlans/vlan/config/vlan-id`. Because the latter it's not in our data we need to disable the automated validation of the instance.\n",
    "\n",
    "You can have multiple paths as well:"
   ]
  },
  {
   "cell_type": "code",
   "execution_count": 6,
   "metadata": {},
   "outputs": [
    {
     "name": "stdout",
     "output_type": "stream",
     "text": [
      "{\n",
      "    \"openconfig-vlan:vlans\": {\n",
      "        \"vlan\": [\n",
      "            {\n",
      "                \"vlan-id\": 10,\n",
      "                \"config\": {\n",
      "                    \"name\": \"prod\",\n",
      "                    \"status\": \"ACTIVE\"\n",
      "                }\n",
      "            },\n",
      "            {\n",
      "                \"vlan-id\": 20,\n",
      "                \"config\": {\n",
      "                    \"name\": \"dev\",\n",
      "                    \"status\": \"SUSPENDED\"\n",
      "                }\n",
      "            }\n",
      "        ]\n",
      "    }\n",
      "}\n"
     ]
    }
   ],
   "source": [
    "p = IOSParser(\n",
    "    dm,\n",
    "    native=config,\n",
    "    include=[\n",
    "        \"/openconfig-vlan:vlans/vlan/config/name\",\n",
    "        \"/openconfig-vlan:vlans/vlan/config/status\",        \n",
    "    ]\n",
    ")\n",
    "result = p.process(validate=False)\n",
    "print(json.dumps(result.raw_value(), indent=4))"
   ]
  },
  {
   "cell_type": "markdown",
   "metadata": {},
   "source": [
    "Now, let's imagine you want to get all of your interfaces but you don't want subinterfaces:"
   ]
  },
  {
   "cell_type": "code",
   "execution_count": 7,
   "metadata": {},
   "outputs": [
    {
     "name": "stdout",
     "output_type": "stream",
     "text": [
      "{\n",
      "    \"openconfig-interfaces:interfaces\": {\n",
      "        \"interface\": [\n",
      "            {\n",
      "                \"name\": \"FastEthernet1\",\n",
      "                \"config\": {\n",
      "                    \"name\": \"FastEthernet1\",\n",
      "                    \"type\": \"iana-if-type:ethernetCsmacd\",\n",
      "                    \"description\": \"This is Fa1\",\n",
      "                    \"enabled\": false\n",
      "                }\n",
      "            },\n",
      "            {\n",
      "                \"name\": \"FastEthernet3\",\n",
      "                \"config\": {\n",
      "                    \"name\": \"FastEthernet3\",\n",
      "                    \"type\": \"iana-if-type:ethernetCsmacd\",\n",
      "                    \"description\": \"This is Fa3\",\n",
      "                    \"enabled\": true\n",
      "                }\n",
      "            },\n",
      "            {\n",
      "                \"name\": \"FastEthernet4\",\n",
      "                \"config\": {\n",
      "                    \"name\": \"FastEthernet4\",\n",
      "                    \"type\": \"iana-if-type:ethernetCsmacd\",\n",
      "                    \"enabled\": false\n",
      "                }\n",
      "            }\n",
      "        ]\n",
      "    }\n",
      "}\n"
     ]
    }
   ],
   "source": [
    "p = IOSParser(\n",
    "    dm,\n",
    "    native=config,\n",
    "    include=[\"/openconfig-interfaces:interfaces\"],\n",
    "    exclude=[\"/openconfig-interfaces:interfaces/interface/subinterfaces\"]\n",
    ")\n",
    "result = p.process(validate=False)\n",
    "print(json.dumps(result.raw_value(), indent=4))"
   ]
  },
  {
   "cell_type": "markdown",
   "metadata": {},
   "source": [
    "We first used `include` to tell which paths we wanted and then `exclude` to remove more specific paths."
   ]
  }
 ],
 "metadata": {
  "celltoolbar": "Edit Metadata",
  "kernelspec": {
   "display_name": "Python 3",
   "language": "python",
   "name": "python3"
  },
  "language_info": {
   "codemirror_mode": {
    "name": "ipython",
    "version": 3
   },
   "file_extension": ".py",
   "mimetype": "text/x-python",
   "name": "python",
   "nbconvert_exporter": "python",
   "pygments_lexer": "ipython3",
   "version": "3.6.8"
  }
 },
 "nbformat": 4,
 "nbformat_minor": 2
}
